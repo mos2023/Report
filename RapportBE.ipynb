{
 "cells": [
  {
   "cell_type": "markdown",
   "id": "275be803-2efa-4488-8252-45cb1ed277d7",
   "metadata": {
    "tags": []
   },
   "source": [
    "<h1 style=\"text-align: center;\"><b>Home comfort and energy</b></h1>\n",
    "\n",
    "<img \n",
    "    style=\"display: block; \n",
    "           margin-left: auto;\n",
    "           margin-right: auto;\n",
    "           width: 8%;\"\n",
    "    src=\"https://www.ec-lyon.fr/sites/default/files/styles/full/public/legacy-files/logo_ecl_carre_q.png?itok=gG2EmtXL\" \n",
    "    alt=\"Our logo\">\n",
    "</img>\n",
    "\n",
    "<h2 style=\"text-align: center;\"><b>BE - Report</b></h2>\n",
    "\n",
    "<h4 style=\"text-align: center;\">27/02/2023</h4>\n",
    "\n",
    "<p style=\"text-align: left;\">Students<br>Boris LAURENT<br>Salomé RICHARD<br>Léo PINCHARD<br>Marie d'HARCOURT</p>\n",
    "\n",
    "<p style=\"text-align: right;\">Teacher<br>Christian GHIAUS</p>\n",
    "\n",
    "\n",
    "\n"
   ]
  },
  {
   "cell_type": "markdown",
   "id": "73ace9a2-6044-4f67-b690-ff38e88ac10c",
   "metadata": {},
   "source": [
    "\n",
    "# Introduction\n",
    "The building sector represents 44% of the energy consumed in France, far ahead of the transport sector. Each year, the building sector emits more than 123 million tons of C02, which makes it one of the key areas in the fight against global warming and the energy transition.<br>\n",
    "In this BE :\n",
    "- We will discuss the influence of different parameters in the behavior of a simple building, based on a code previously developed.\n",
    "We will study four cases :\n",
    "\n",
    "Case 1. The four rooms are controlled by a HVAC system at the setpoint temperatures 20 °C, 20 °C, 22 °C, 18 °C for rooms 1, 2, 3, and 4, respectively and that the there is no solar radiation on the walls. \n",
    "\n",
    "Case 2. We consider that there is solar radiation absorbed by the walls and that rooms 1 and 3 are controlled by a HVAC system while rooms 2 and 4 are in \"free-running\". \n",
    "\n",
    "Case 3. Room 2 is ventilated with an air-flow rate of $ACH = 1 \\, \\mathrm{volume /hour}$ (ACH is the number of air-changes per hour). The density and specific heat of the air are $\\rho = 1.2 \\, \\mathrm{kg/m^3}$ and $c = 1000 \\, \\mathrm{J/(kg \\, K)}$, respectively). The outdoor air enters in room 2, then is moves to room 4 and, from here, it gets outdoors.\n",
    "\n",
    "Case 4. The air-flow in room 2 is reversed: from outdoors, the air enters in room 4, then it moves to room 2, from which it gets outdoors. Considering that the air flow rate of room 2 is the same as before (i.e., $ACH = 1 \\, \\mathrm{volume /hour}$).\n",
    "\n",
    "The objective is to discuss the influence of different parameters, such as ventilation, materials and solar radiation on the thermal loads and the temperatures of the indoor air of the rooms.\n",
    "\n",
    "- Then, we will focus on the modeling of a more complex architecture, resulting from the TET option project \"Ferme du Milieu à Lhuis\". \n"
   ]
  },
  {
   "cell_type": "markdown",
   "id": "7d88a53f-3de0-4be2-a482-20cd28e6e416",
   "metadata": {
    "tags": []
   },
   "source": [
    "# First part - four room's building - Description of the problem\n",
    "## Problem\n",
    "### Data\n",
    "The building is formed of 4 rooms with the dimensions (Figure 1):  \n",
    "- $L = 6, \\, l = 3\\,  \\mathrm{m}$, lengths,\n",
    "- $H = 6 \\, \\mathrm{m}$, height.\n",
    "- $w = 0.20 \\, \\mathrm{m}$, width of the walls.\n",
    "\n",
    "![fig](./figures/08_bldg_plan.svg)\n",
    "> Figure 1. Plan of the building\n",
    "\n",
    "The thermal conductivity of the walls is $\\lambda = 1.7 \\, \\mathrm{W/(m \\, K)}$.\n",
    "\n",
    "The convective heat coefficients between the walls and the indoor and outdoor air are $h_i = 8 \\, \\mathrm{W/(m^2 \\, K)}$ and $h_o = 25 \\, \\mathrm{W/(m^2 \\, K)}$ respectively.\n",
    "\n",
    "In **winter** conditions, the short-wave solar radiation absorbed by each wall is $E = 200 \\, \\mathrm{W/m^2}$ and the outdoor temperature is $T_o = 0 \\, \\mathrm{°C}$.\n",
    "\n",
    "In **summer** conditions, the short-wave solar radiation absorbed by each wall is $E = 400 \\, \\mathrm{W/m^2}$ and the outdoor temperature is $T_o = 30 \\, \\mathrm{°C}$.\n"
   ]
  },
  {
   "cell_type": "code",
   "execution_count": 1,
   "id": "1bbe08e1-43d2-415c-ad6c-362ea7fc470d",
   "metadata": {},
   "outputs": [],
   "source": [
    "import numpy as np\n",
    "\n",
    "np.set_printoptions(precision=1)\n",
    "\n",
    "# Data\n",
    "# ====\n",
    "# dimensions\n",
    "L, l, H, w = 6, 3, 3, 0.20  # m\n",
    "\n",
    "# thermo-physical propertites\n",
    "λ = 1.7             # W/(m K) wall thermal conductivity\n",
    "ρ, c = 1.2, 1000    # kg/m3, J/(kg K) density, specific heat air\n",
    "hi, ho = 8, 25      # W/(m2 K) convection coefficients in, out\n",
    "\n",
    "# short-wave solar radiation absorbed by each wall\n",
    "E = 200             # W/m2\n",
    "\n",
    "# outdoor temperature\n",
    "To = 0              # °C\n",
    "\n",
    "# ventilation rate (air-changes per hour)\n",
    "ACH = 1             # volume/h"
   ]
  },
  {
   "cell_type": "markdown",
   "id": "16b26723-f1a8-434a-9cb5-38153bb3f595",
   "metadata": {
    "tags": []
   },
   "source": [
    "## Thermal model\n",
    "\n",
    "The [volumetric flow rate](https://en.m.wikipedia.org/wiki/Volumetric_flow_rate) of air circulating in room 2 results from the ventilation rate:\n",
    "$$\\dot V = L·l·H·\\frac{ACH}{3600 \\, \\mathrm{s}}$$\n",
    "\n",
    "The [mass flow rate](https://en.m.wikipedia.org/wiki/Mass_flow_rate) of air entering and getting out of room 2 is:\n",
    "$$\\dot m = \\rho \\dot V$$"
   ]
  },
  {
   "cell_type": "code",
   "execution_count": 2,
   "id": "f63daae1-798a-45c3-a02e-27d4ffb829ed",
   "metadata": {},
   "outputs": [],
   "source": [
    "V_dot = L * l * H * ACH / 3600  # volumetric air flow rate\n",
    "m_dot = ρ * V_dot               # mass air flow rate"
   ]
  },
  {
   "cell_type": "markdown",
   "id": "a4fab65b-68cb-425c-a22d-3c8ffd16ff84",
   "metadata": {
    "tags": []
   },
   "source": [
    "### Thermal conductances\n",
    "\n",
    "In the model, we will consider the conductances:\n",
    "- $h \\, S$ - convection, W/K;\n",
    "- $\\lambda / w \\, S$ - conduction, W/K;\n",
    "- $\\dot m c$ - advection, W/K;\n",
    "- $K_p$ - gain of the proportional controller, W/K.\n",
    "\n",
    "**Note:** in determening the surfce area of the walls $S = L \\, l \\, H$ the length of the walls are the indoor values.\n",
    "\n",
    "We will consider the conductances of exterior and the interior walls (Figure 2). The exterior walls are modelled with a conductance for outdoor convection (cyan in Figure 2) and an equivalent conductance for conduction in the wall and indoor convection (blue in Figure 2). The indoor walls are modelled by an equivalent conductance for indoor convection, conduction, and indoor convection on the other side.\n",
    "\n",
    "![fig](./figures/08_blds_conductance.svg)\n",
    "> Figure 2. Walls forming thermal coductances in the model."
   ]
  },
  {
   "cell_type": "markdown",
   "id": "961c9df9-f330-45b3-bd69-efcd09c05856",
   "metadata": {
    "tags": []
   },
   "source": [
    "### Thermal network\n",
    "\n",
    "The thermal network modeling the building is a [weighted directed graph](https://en.m.wikipedia.org/wiki/Directed_graph) (Figure 3). It is composed of edges (or branches) and vertexes (or nodes).\n",
    "\n",
    "The temperature nodes model a volume, a surface, a line or a point in space for which the temperature is considered homogenous. The nodes are dependent temperatures (outputs of the physical system). The reference temperature is considered zero Celsius; it has a known value and is represented by a bar (Figure 3).\n",
    "\n",
    "To a temperature node $\\theta_j$, there are connected [heat flow rate](https://en.m.wikipedia.org/wiki/Rate_of_heat_flow) branches $q_k, k = 0 ... n$ and [heat flow rate sources](https://en.m.wikipedia.org/wiki/Current_source), $f_j$ (Figure 3a). A heat rate source delivers a heat flow rate whatever is the temperature difference. In buildings, typical heat flow rate sources are [solar irradiance](https://en.m.wikipedia.org/wiki/Solar_irradiance), [electrical appliances](https://en.wikipedia.org/wiki/Joule_heating) and [occupants](https://en.wikipedia.org/wiki/Thermal_comfort#Metabolic_rate). If a heat flow rate source is [identically zero](https://en.wiktionary.org/wiki/identically_zero), then it is not figured on the graph.\n",
    "\n",
    "In steady-state, the [algebraic sum of the heat flow rates](https://en.wikipedia.org/wiki/Kirchhoff%27s_circuit_laws#Kirchhoff's_current_law) entering the temperature node $\\theta_j$ is zero:\n",
    "$$\\sum_{k} q_k + f_j= 0$$\n",
    "\n",
    "Two temperature nodes $\\theta_i$ and $\\theta_j$ are connected by directed edges of heat flow rates $q_k$ (Figure 3a). On each edge, there is a conductance $G_k$ and a temperature source $b_k$. A [temperature source](https://en.m.wikipedia.org/wiki/Voltage_source) maintains a temperature value whatever is the heat flow rate. In building, outdoor air, ground, and setpoint temperatures are typical examples of temperature sources. If a temperature source is [identically zero](https://en.wiktionary.org/wiki/identically_zero), then it is not figured on the graph.\n",
    "\n",
    "From the [directed sum of temperature differences over a branch](https://en.m.wikipedia.org/wiki/Kirchhoff%27s_circuit_laws#Kirchhoff's_voltage_law), it results that the [temperature drop](https://en.wikipedia.org/wiki/Voltage_drop) over a conductance is (Figure 3a):\n",
    "$$e_k = \\theta_i - \\theta_j + b_k$$\n",
    "\n",
    "The relation between the temperature drop, $e_k$, over a conductance, $G_k$, and the heat flow rate, $q_k$, thrrough the conductance $G_k$ is:\n",
    "$$q_k = G_k \\, e_k$$\n",
    "\n",
    "This [weighted directed graph](https://en.m.wikipedia.org/wiki/Directed_graph) is characterized by:\n",
    "- $A$ - [incidence matrix](https://en.m.wikipedia.org/wiki/Incidence_matrix);\n",
    "- $G$ - [conductance](https://en.m.wikipedia.org/wiki/Electrical_resistance_and_conductance)  diagonal matrix;\n",
    "- $b$ - vector of [temperature sources](https://en.m.wikipedia.org/wiki/Voltage_source);\n",
    "- $f$ - vector of [flow-rate sources](https://en.m.wikipedia.org/wiki/Current_source).\n",
    "\n",
    "\n",
    "The solution of the problem is ([Ghiaus (2013)](https://hal.archives-ouvertes.fr/hal-03605823/document)):\n",
    "\n",
    "$$ \\theta = (A^TGA)^{-1}(A^TGb + f)$$\n",
    "and\n",
    "$$ q = G(-A\\theta + b)$$\n",
    "\n",
    "![fig](./figures/08_thermal_network.svg)\n",
    "> Figure 3. Thermal network: a) typical element of the thermal network (the sources are not figured if they are identically zero); b) thermal network model for the buiding shown in Figures 1 and 2.\n",
    "\n",
    "For our model, the graph has 20 braches and 8 nodes (Figure 3b)."
   ]
  },
  {
   "cell_type": "code",
   "execution_count": 3,
   "id": "3dff6854-44f4-4b34-a1c7-104e94439d23",
   "metadata": {},
   "outputs": [],
   "source": [
    "nq, nθ = 20, 8  # number of flow-rates branches and of temperaure nodes"
   ]
  },
  {
   "cell_type": "markdown",
   "id": "84ce0ac2-2c7f-4e97-abb2-4518ac8eef47",
   "metadata": {},
   "source": [
    "### Incidence matrix\n",
    "The [incidence matrix of a directed graph](https://en.m.wikipedia.org/wiki/Incidence_matrix) shows the relationship between the edges (or branches) $k$ and the vertexes (or nodes) $j$ of the graph (Figure 3a):\n",
    "\n",
    "$$A_{k,j} = \\begin{cases}\\phantom{-}\n",
    "0 & \\text{if heat flow rate } q_k \\text{ is not connected to node }  \\theta_j \\\\ \n",
    "+1 & \\text{if heat flow rate } q_k \\text{ enters into node }  \\theta_j\\\\ \n",
    "-1 & \\text{if heat flow rate } q_k \\text{ gets out of node }  \\theta_l \n",
    "\\end{cases}$$\n",
    "\n",
    "The incidence matrix is a [sparce matrix](https://en.m.wikipedia.org/wiki/Sparse_matrix) which has:\n",
    "- the number of rows equal to $n_q$, the number of flow rates $q_k$;\n",
    "- the number of columns equal to $n_{\\theta}$, the number of temperature nodes $\\theta_j$."
   ]
  },
  {
   "cell_type": "code",
   "execution_count": 4,
   "id": "81de6c96-d97b-4d65-91d9-e608873471ed",
   "metadata": {},
   "outputs": [],
   "source": [
    "# Incidence matrix\n",
    "# ================\n",
    "A = np.zeros([nq, nθ])\n",
    "\n",
    "# q0 ... q3 (cyan branches)\n",
    "A[0, 0] = 1\n",
    "A[1, 1] = 1\n",
    "A[2, 5] = 1\n",
    "A[3, 7] = 1\n",
    "\n",
    "# q4 ... q7 (blue branches)\n",
    "A[4, 0], A[4, 3] = -1, 1\n",
    "A[5, 1], A[5, 2] = -1, 1\n",
    "A[6, 4], A[6, 5] = -1, 1\n",
    "A[7, 7], A[7, 6] = -1, 1\n",
    "\n",
    "# q8 ... q12 (yellow branches)\n",
    "A[8, 2], A[8, 3] = -1, 1\n",
    "A[9, 3], A[9, 4] = -1, 1\n",
    "A[10, 6], A[10, 2] = -1, 1\n",
    "A[11, 6], A[11, 3] = -1, 1\n",
    "A[12, 6], A[12, 4] = -1, 1\n",
    "\n",
    "# q13 ... q15 (green branches)\n",
    "A[13, 3] = 1\n",
    "A[14, 3], A[14, 6] = -1, 1\n",
    "A[15, 6] = 1\n",
    "\n",
    "# q16 ... q19 (red branches)\n",
    "A[16, 2] = 1\n",
    "A[17, 3] = 1\n",
    "A[18, 4] = 1\n",
    "A[19, 6] = 1"
   ]
  },
  {
   "cell_type": "markdown",
   "id": "43af7d30-a1a8-490f-82ca-754b3a9ce21a",
   "metadata": {
    "tags": []
   },
   "source": [
    "### Conductances\n",
    "The number of conductances correspod to the number of flows which is the number of rows of incidence matrix $A$"
   ]
  },
  {
   "cell_type": "code",
   "execution_count": 5,
   "id": "e0fc9691-7831-4086-9919-0a40e2d12cba",
   "metadata": {},
   "outputs": [],
   "source": [
    "# Conductance matrix\n",
    "# ==================\n",
    "G = np.zeros(A.shape[0])"
   ]
  },
  {
   "cell_type": "markdown",
   "id": "c57c1b8c-98cb-4ba2-b3d8-e60f265a1f0e",
   "metadata": {},
   "source": [
    "#### Exterior walls: outdoor convection\n",
    "The conductances of [convection](https://en.m.wikipedia.org/wiki/Newton%27s_law_of_cooling) between the walls and the outdoor air (in cyan in Figures 2 and 3) are of the form\n",
    "$$G_i = h_o \\, S_{o,k},\\text{ with } k = 0 ... 3$$\n",
    "where $S_{o,k}$ is the surface area of the wall in contact with the outdoor air:\n",
    "- $S_{o,0} = L \\, H$;\n",
    "- $S_{o,1} = S_{o,2} = (L + l) H$;\n",
    "- $S_{o,3} = (2l + 3L + 2w)H$.\n"
   ]
  },
  {
   "cell_type": "code",
   "execution_count": 6,
   "id": "b31f00f6-561e-495b-b24a-a2e092d941ef",
   "metadata": {},
   "outputs": [],
   "source": [
    "# G0 ... G3 (cyan branches): outdoor convection\n",
    "L4 = 2 * l + 3 * L + 2 * w      # length outdoor wall room 4\n",
    "So = np.array([L, L + l, L + l, L4]) * H    # outdoor surfaces\n",
    "G[0:4] = ho * So"
   ]
  },
  {
   "cell_type": "markdown",
   "id": "ed725854-d368-40f3-b25d-219f43a793f1",
   "metadata": {},
   "source": [
    "#### Exterior walls: conduction and indoor convection\n",
    "The [equivalent conductance](https://en.m.wikipedia.org/wiki/Series_and_parallel_circuits#Combining_conductances) for [conduction](https://en.m.wikipedia.org/wiki/Thermal_conduction) in the wall and [convection](https://en.m.wikipedia.org/wiki/Newton%27s_law_of_cooling) between the wall and the indoor air (in blue in Figure 3) is:\n",
    "$$G_k = \\frac{1}{\\frac{w}{\\lambda} + \\frac{1}{h_i}}S_{o,j},\\text{ with } k = 4 ... 7, j = 0 ... 3$$"
   ]
  },
  {
   "cell_type": "code",
   "execution_count": 7,
   "id": "6a0614b5-26b9-4121-89b6-e31714c24e54",
   "metadata": {},
   "outputs": [],
   "source": [
    "# G4 ... G7 (blue branches): conduction, indoor convection\n",
    "G[4:8] = 1 / (w / λ + 1 / hi) * So"
   ]
  },
  {
   "cell_type": "markdown",
   "id": "b0f6bc05-0487-4035-854f-63527e34767f",
   "metadata": {},
   "source": [
    "#### Interior walls: indoor convection, conduction indoor convection\n",
    "The [equivalent conductance](https://en.m.wikipedia.org/wiki/Series_and_parallel_circuits#Combining_conductances) for the indoor walls is formed by the (yellow in Figures 2 and 3):\n",
    "- convetion between wall and indoor air;\n",
    "- conduction into the wall;\n",
    "- convetion between wall and indoor air.\n",
    "\n",
    "It is of the form:\n",
    "$$G_k = \\frac{1}{\\frac{1}{h_i} + \\frac{w}{\\lambda} + \\frac{1}{h_i}}S_{i,j}, \\text{ with } k = 8 ... 12, \\text{ and } j = 0 ... 4$$\n",
    "\n",
    "where $S_{i,j}$ is the surface area of the wall in contact with the indoor air:\n",
    "- $S_{i,0} = S_{i,1} = l \\, H$;\n",
    "- $S_{i,2} = S_{i,3} = S_{i,4} = L \\, H$."
   ]
  },
  {
   "cell_type": "code",
   "execution_count": 8,
   "id": "6486236e-47e3-44b3-b44c-97210e178d96",
   "metadata": {},
   "outputs": [],
   "source": [
    "# G8 ... G12 (yellow branches): indoor walls\n",
    "#    indoor convection, conduction, indoor convection\n",
    "Si = np.array([l, l, L, L, L]) * H\n",
    "G[8:13] = 1 / (1 / hi + w / λ + 1 / hi) * Si"
   ]
  },
  {
   "cell_type": "markdown",
   "id": "e1ada68a-198b-4219-b38e-660d9b8a1cce",
   "metadata": {
    "tags": []
   },
   "source": [
    "#### Ventilation: heat transfer by advection\n",
    "\n",
    "Ventilation of rooms 2 and 4 transfers heat to these spaces by [advection](https://en.m.wikipedia.org/wiki/Advection) (Figure 4). The [energy flow rate carried by the fluid](https://en.m.wikipedia.org/wiki/Mass_flow_rate) is:\n",
    "$$\\dot H = \\dot m c \\theta$$\n",
    "where:\n",
    "- $\\dot H$ is the [enthalpy](https://en.m.wikipedia.org/wiki/Enthalpy#Relationship_to_heat) rate carried by the air, W;\n",
    "- $\\dot m$ - mass flow rate of the air, kg / s;\n",
    "- $c$ - [specific heat capacity](https://en.m.wikipedia.org/wiki/Specific_heat_capacity) of the air, J / (kg⋅K);\n",
    "- $\\theta$ - air temperature, °C.\n",
    "\n",
    "##### Air-flow: outdoor → room 2 → room 4 → outdoor\n",
    "\n",
    "If the airflow is from outdoor to room 2, then the heat flow rate tranferred from outdoor air to the indoor air of room 2 is (Figure 4 a):\n",
    "$$q_{13} = \\dot m c T_o - \\dot m c \\theta_3$$\n",
    "or\n",
    "$$q_{13} = G_{13}(T_o - \\theta_3)$$\n",
    "where $G_{13} = \\dot m c$.\n",
    "\n",
    "The heat flow rate transferred by advection of the air from room 2 to room 4 is (Figure 4 a):\n",
    "$$q_{14a} = \\dot m c \\theta_3 - \\dot m c \\theta_6$$\n",
    "or\n",
    "$$q_{14a} = G_{14}(\\theta_3 - \\theta_6)$$\n",
    "where $G_{14} = \\dot m c$.\n",
    "\n",
    "![fig](./figures/08_vent_advection.svg)\n",
    "> Figure 4. Heat advection by ventilation. a) Air-flow: outdoor  → room 2 → room 4 → outdoor. b) Air-flow: outdoor → room 4 → room 2 → outdoor.\n",
    "\n",
    "##### Air-flow: outdoor → room 4 → room 2 → outdoor\n",
    "\n",
    "If the airflow is from room 4 to room 2 (Figure 4 b), then the heat flow rate tranferred to the indoor air of room 2 is:\n",
    "$$q_{14b} = \\dot m c \\theta_6 - \\dot m c \\theta_3$$\n",
    "or\n",
    "$$q_{14b} = G_{14}(\\theta_6 - \\theta_3)$$\n",
    "where $G_{14} = \\dot m c$.\n",
    "\n",
    "The heat flow rate transferred by advection from the outdoor air to room 4 is:\n",
    "$$q_{15} = \\dot m c T_o - \\dot m c \\theta_6$$\n",
    "or\n",
    "$$q_{15} = G_{15}(T_o - \\theta_6)$$\n",
    "where $G_{14} = \\dot m c.$\n",
    "\n",
    "##### Heat flow rate from room 2 to room 4\n",
    "\n",
    "If the air flows from room 2 to room 4, then the heat flow rate is $q_{14a} \\equiv q_{14}.$ If the air flows from room 4 to room 2, then the heat flow rate is $q_{14b} \\equiv -q_{14}.$ Therefore, a single heat flow rate, $q_{14}$, is needed in the thermal network (Figure 3).\n",
    "\n",
    "##### Modelling the change in airflow direction\n",
    "\n",
    "If the air flows in the direction: outdoor  → room 2 → room 4 → outdoor, then conductance $G_{15}$ is zero and conductances $G_{13}$ and $G_{14}$ are equal to $\\dot m c$ (Figure 3 and Figure 4a).\n",
    "\n",
    "If the air flows in the direction: outdoor  → room 2 → room 4 → outdoor, then conductance $G_{13}$ is zero and conductances $G_{14}$ and $G_{15}$ are equal to $\\dot m c$ (Figure 3 and Figure 4b).\n",
    "\n",
    "If there is no ventilation, the conductances $G_{13}$, $G_{14},$ and $G_{15}$ are zero."
   ]
  },
  {
   "cell_type": "code",
   "execution_count": 9,
   "id": "e7749fcc-2265-44d5-904f-8b2cb54683be",
   "metadata": {},
   "outputs": [],
   "source": [
    "# G13 ... G15 (green branches): advection by ventilation\n",
    "G[13:16] = np.zeros(3)"
   ]
  },
  {
   "cell_type": "markdown",
   "id": "4bae1c51-9a35-4401-99ce-b0453fe35188",
   "metadata": {},
   "source": [
    "> Table 1. Typical values for the ventilation rates (in air changes per hour, ACH) as a function of the position of windows (H. Recknagel, E. Spenger, E_R Schramek (2013), Table 1.12.1-4)\n",
    "\n",
    "| Position of windows                     | Ventilation rate, ACH [h⁻ⁱ] |\n",
    "| --------------------------------------- | ---------------------- |\n",
    "| Window closed, doors closed             | 0 to 0.5 |\n",
    "| Tilted window, venetian blind closed    | 0.3 to 1.5 |\n",
    "| Tilted window, whitout venetian blind   | 0.8 to 4.0 |\n",
    "| Window half opened                      | 5 to 10 |\n",
    "| Window fully open                       | 9 to 15 |\n",
    "| Window and French window fully open (cross ventilation) | about 40 |"
   ]
  },
  {
   "cell_type": "markdown",
   "id": "ea6641d8-ec00-4222-8184-1cb02ff50323",
   "metadata": {},
   "source": [
    "#### Proportional controller\n",
    "\n",
    "The heating, ventilation, and air conditioning ([HVAC](https://en.wikipedia.org/wiki/Heating,_ventilation,_and_air_conditioning)) system maintains the indoor air temperature at [setpoint](https://en.wikipedia.org/wiki/Setpoint_(control_system)) value. Therefore, the HVAC system may be modelled as a [proportional controller](https://en.m.wikipedia.org/wiki/Proportional_control) (Figure 5a) for wich the heat flow rate of the HVAC system is:\n",
    "\n",
    "$$q = K_P (T_{sp} - \\theta)$$\n",
    "\n",
    "where:\n",
    "- $K_P$ is the [proportional gain;](https://en.wikipedia.org/wiki/Proportional_control#Theory)\n",
    "- $T_{sp}$ - setpoint temperature, °C;\n",
    "- $\\theta$ - measured temperature of the indoor air, °C.\n",
    "\n",
    "The heat flow rate can be then expressed as (Figure 5b):\n",
    "$$q = G (T_{sp} - \\theta)$$\n",
    "where $G \\equiv K_p$.\n",
    "\n",
    "The indoor air temperature control by the HVAC system (Figure 5a) may be modelled by a source of temperature, $T_{sp}$, and a conductance, $G$ (Figure 5b).\n",
    "\n",
    "![fig](./figures/08_P-controller.svg)\n",
    "> Figure 5. Model of a proportional controller in a thermal network (example for room 1). a) Principle of a temperature control system using a P-controller. b) Model of temperature control system in a thermal network.\n",
    "\n",
    "If the rooms are in \"free-runnning\" (i.e., the controllers are not active), the proportional gains of the controllers are zero."
   ]
  },
  {
   "cell_type": "code",
   "execution_count": 10,
   "id": "b89b9c1d-4e48-4254-b01f-2303bcd210c6",
   "metadata": {},
   "outputs": [],
   "source": [
    "# G16 ... G19 (red branches): gains of proportional controllers\n",
    "G[16:20] = np.zeros(4)"
   ]
  },
  {
   "cell_type": "markdown",
   "id": "dd043bba-5964-4ff4-9b3f-96d129375bed",
   "metadata": {},
   "source": [
    "### Vector of temperature sources\n",
    "\n",
    "Every edge (or branch) of the graph has a [temperature source](https://en.m.wikipedia.org/wiki/Voltage_source) which is not figured if it is [identically zero](https://en.wiktionary.org/wiki/identically_zero) (Figure 3a). The number of temperature sources is equal to the number of heat flow rates, i.e., the number of rows of the incidence matrix $A$."
   ]
  },
  {
   "cell_type": "code",
   "execution_count": 11,
   "id": "3ea1f598-99c0-493e-b7a1-5806ec349ab0",
   "metadata": {},
   "outputs": [],
   "source": [
    "# Vector of temperature sources\n",
    "# =============================\n",
    "b = np.zeros(A.shape[0])"
   ]
  },
  {
   "cell_type": "markdown",
   "id": "c87e7130-6baf-4d46-8182-695b7fb6808a",
   "metadata": {},
   "source": [
    "The temperature sources modelling the outdoor temperature of the walls are on branches 0 ... 3."
   ]
  },
  {
   "cell_type": "code",
   "execution_count": 12,
   "id": "1370d5b8-e309-4cd3-be92-0784546a71ce",
   "metadata": {},
   "outputs": [],
   "source": [
    "b[0:4] = To         # cyan branches: outdoor temperature for walls"
   ]
  },
  {
   "cell_type": "markdown",
   "id": "162a26d1-f3f1-4fc2-8add-f063a146abaf",
   "metadata": {},
   "source": [
    "The temperature sources modelling the outdoor temperature for the ventilation are on braches 13 and 15."
   ]
  },
  {
   "cell_type": "code",
   "execution_count": 13,
   "id": "8bfa0f0d-9e1a-4ace-be1a-7442efe35970",
   "metadata": {},
   "outputs": [],
   "source": [
    "b[[13, 15]] = To    # green branches: outdoor temperature for ventilation"
   ]
  },
  {
   "cell_type": "markdown",
   "id": "3b75d7d8-9409-4f3c-92ad-bafefad56abd",
   "metadata": {},
   "source": [
    "The temperature sources modelling the [setpoint](https://en.m.wikipedia.org/wiki/Setpoint_(control_system)) temperatures are on the branches 16, ... 19. The setpoints for room 1 and 3 are 20 °C and 22 °C, respectively.  "
   ]
  },
  {
   "cell_type": "code",
   "execution_count": 14,
   "id": "acf49cd5-56e9-4fcc-a9cd-7aa4359ac406",
   "metadata": {},
   "outputs": [],
   "source": [
    "b[[16, 18]] = 20, 22    # red branches: setpoints room 1 & 3"
   ]
  },
  {
   "cell_type": "markdown",
   "id": "f8c45fa6-3027-4dd9-bc1b-e7b394abd3a1",
   "metadata": {},
   "source": [
    "### Vector of heat flow rate sources\n",
    "\n",
    "In our model, the heat flow rate sources are the solar radiation absorbed by the exterior walls. First, we will consider that the solar radiation is zero.\n",
    "\n",
    "The number of heat flow rate sources is equal to the number of temperature nodes, i.e., the number of columns of the incidence matrix $A$."
   ]
  },
  {
   "cell_type": "code",
   "execution_count": 15,
   "id": "a2d68394-5c7e-4849-8d8c-4a0df461fcbb",
   "metadata": {},
   "outputs": [],
   "source": [
    "# Vector of flow-rate sources\n",
    "# =============================\n",
    "f = np.zeros(A.shape[1])"
   ]
  },
  {
   "cell_type": "markdown",
   "id": "9f73b706-4bca-4022-81ff-89e85732333b",
   "metadata": {},
   "source": [
    "### Outputs\n",
    "\n",
    "In this problem, we are looking for the indoor air temperatures of the rooms (1, 2, 3, and 4) and for the thermal loads of the rooms.\n",
    "\n",
    "The air temperatures of the rooms are $\\theta_2$, $\\theta_3$, $\\theta_4$, and $\\theta_6$,\n",
    "\n",
    "The [thermal load](https://en.m.wikipedia.org/wiki/Cooling_load) is the heat flow rate needed to compensate all the other heat flow rates in order to maintain the air temperature at its setpoint. Therefore, the thermal loads are the heat flow rates of the controllers, i.e. $q_{16 ... 19}$."
   ]
  },
  {
   "cell_type": "code",
   "execution_count": 16,
   "id": "f980faca-76ef-45f8-8327-b6dd5e895805",
   "metadata": {},
   "outputs": [],
   "source": [
    "# Indexes of outputs\n",
    "# ==================\n",
    "indoor_air = [2, 3, 4, 6]   # indoor air temperature nodes\n",
    "controller = range(16, 20)  # controller branches"
   ]
  },
  {
   "cell_type": "markdown",
   "id": "728a4dc2-77f4-4c9a-8603-694ac48c1353",
   "metadata": {},
   "source": [
    "## Case 1: all 4 rooms are controlled\n",
    "\n",
    "Considering that all four rooms are controlled by a HVAC system at the setpoint temperatures 20 °C, 20 °C, 22 °C, 18 °C for rooms 1, 2, 3, and 4, respectively and that the there is no solar radiation on the external walls, find the thermal loads of the four rooms.\n",
    "\n",
    "For an almost perfect proportional controller, we will consider a very large gain of the controller as compared to the maximum value of the conductance matrix."
   ]
  },
  {
   "cell_type": "code",
   "execution_count": 17,
   "id": "64dc4e6c-2a7e-4b86-b409-860fff2c5e09",
   "metadata": {},
   "outputs": [
    {
     "name": "stdout",
     "output_type": "stream",
     "text": [
      "Maximum value of conductance: 1830 W/K\n"
     ]
    }
   ],
   "source": [
    "print(f\"Maximum value of conductance: {max(G):.0f} W/K\")"
   ]
  },
  {
   "cell_type": "code",
   "execution_count": 18,
   "id": "6a81b056-c0e3-4852-9804-2194b7702032",
   "metadata": {},
   "outputs": [
    {
     "name": "stdout",
     "output_type": "stream",
     "text": [
      "1. All 4 rooms controlled\n",
      "θ: [20. 20. 22. 18.] °C\n",
      "q: [2008.4 1322.6 2346.4 4270. ] W\n"
     ]
    }
   ],
   "source": [
    "b[controller] = 20, 20, 22, 18  # °C setpoint temperature of the rooms\n",
    "G[controller] = 1e9             # P-controller gain\n",
    "\n",
    "θ = np.linalg.inv(A.T @ np.diag(G) @ A) @ (A.T @ np.diag(G) @ b + f)\n",
    "q = np.diag(G) @ (-A @ θ + b)\n",
    "print(\"1. All 4 rooms controlled\")\n",
    "print(\"θ:\", θ[indoor_air], \"°C\")\n",
    "print(\"q:\", q[controller], \"W\")"
   ]
  },
  {
   "cell_type": "markdown",
   "id": "dcaf80c0-6f36-4b18-bce2-126a36c4890d",
   "metadata": {
    "tags": []
   },
   "source": [
    "## Case 2: rooms 2 & 4 in free-running\n",
    "\n",
    "Let's consider that:\n",
    "- there is solar radiation absorbed by the exterior walls, i.e. $f_k = E \\, S_{o,j}, \\text{ with } k = 0, 1, 5, 7 \\text{ and } j = 0...3;$\n",
    "- as before, rooms 1 and 3 are controlled by a HVAC system, i.e. $K_{P,j} \\rightarrow \\infty, \\text{ with } j=16, 18;$\n",
    "- rooms 2 and 4 are in \"[free-running](https://hal.science/hal-01815799/document)\", i.e. $K_{P,j} = 0, \\text{ with } j=17, 19.$ \n",
    "\n",
    "Find the thermal loads of rooms 1 and 3 and the temperatures of the indoor air of rooms 2 and 4."
   ]
  },
  {
   "cell_type": "code",
   "execution_count": 19,
   "id": "8d06dbf3-5a56-4961-9625-aa153a8ab702",
   "metadata": {},
   "outputs": [
    {
     "name": "stdout",
     "output_type": "stream",
     "text": [
      "2. 2 & 4 free-run w/o ventilation\n",
      "θ: [20.  13.1 22.  11.7] °C\n",
      "q: [1719.8    0.  2057.8    0. ] W\n"
     ]
    }
   ],
   "source": [
    "# Zone 2 & 4 free-running; solar rad; without ventilation\n",
    "G[[17, 19]] = 0     # controller gains for room 2 & 4\n",
    "\n",
    "# Solar radiation\n",
    "exterior_wall = [0, 1, 5, 7]\n",
    "f[exterior_wall] = E * So\n",
    "\n",
    "θ = np.linalg.inv(A.T @ np.diag(G) @ A) @ (A.T @ np.diag(G) @ b + f)\n",
    "q = np.diag(G) @ (-A @ θ + b)\n",
    "print(\"2. 2 & 4 free-run w/o ventilation\")\n",
    "print(\"θ:\", θ[indoor_air], \"°C\")\n",
    "print(\"q:\", q[controller], \"W\")"
   ]
  },
  {
   "cell_type": "markdown",
   "id": "fd6d9d71-dd1e-46f5-ab5f-0898240f8224",
   "metadata": {},
   "source": [
    "## Case 3: ventilation from outdoor to room 2\n",
    "\n",
    "Room 2 in ventilated with an air flow rate of $ACH$ (ACH is the number of air-changes per hour). The outdoor air enters in room 2, then it moves to room 4 and, from here, it gets outdoors.\n",
    "\n",
    "Find the thermal loads of rooms 1 and 3 and the temperatures of the indoor air of rooms 2 and 4.\n",
    "\n",
    "To model this direction of air flow, the conductances for ventilation are:\n",
    "$$G_{13} = G_{14} = \\dot m c; G_{15} = 0 $$"
   ]
  },
  {
   "cell_type": "code",
   "execution_count": 20,
   "id": "9f6f7c65-9bd3-419d-b20f-4f06a54db3ed",
   "metadata": {},
   "outputs": [
    {
     "name": "stdout",
     "output_type": "stream",
     "text": [
      "3. 2 & 4 free-run, ventilation out -> 2 -> 4 -> out\n",
      "θ: [20.  11.7 22.  11.6] °C\n",
      "q: [1761.1    0.  2099.     0. ] W\n"
     ]
    }
   ],
   "source": [
    "# Zone 2 & 4 free-running; solar rad;\n",
    "# Ventilation outdoor -> room 2 -> room 4 -> outdoor\n",
    "ventilation = range(13, 16)\n",
    "G[ventilation] = m_dot * c, m_dot * c, 0\n",
    "\n",
    "θ = np.linalg.inv(A.T @ np.diag(G) @ A) @ (A.T @ np.diag(G) @ b + f)\n",
    "q = np.diag(G) @ (-A @ θ + b)\n",
    "print(\"3. 2 & 4 free-run, ventilation out -> 2 -> 4 -> out\")\n",
    "print(\"θ:\", θ[indoor_air], \"°C\")\n",
    "print(\"q:\", q[controller], \"W\")"
   ]
  },
  {
   "cell_type": "markdown",
   "id": "2e91b6cc-8aad-45ae-b4f3-47951f2a6293",
   "metadata": {},
   "source": [
    "## Case 4: ventilation from room 4 to room 2\n",
    "\n",
    "The air flow in room 2 is reversed: from outdoors, the air enters in room 4, then is moves to room 2, from which it gets outdoors. The air flow rate of room 2 is the same as before.\n",
    "\n",
    "Find the thermal loads of rooms 1 and 3 and the temperatures of the indoor air of rooms 2 and 4.\n",
    "\n",
    "To model this direction of air flow, the conductances for ventilation are:\n",
    "$$G_{13} = 0; G_{14} = G_{15} = \\dot m c $$"
   ]
  },
  {
   "cell_type": "code",
   "execution_count": 21,
   "id": "519f5987-76a7-4ba1-bda2-686475e5616e",
   "metadata": {},
   "outputs": [
    {
     "name": "stdout",
     "output_type": "stream",
     "text": [
      "4. 2 & 4 free-run, ventilation out -> 4 -> 2 -> out\n",
      "θ: [20.  12.8 22.  11.3] °C\n",
      "q: [1750.5    0.  2088.4    0. ] W\n"
     ]
    }
   ],
   "source": [
    "# Zone 2 & 4 free-running; solar rad;\n",
    "# Ventilation outdoor -> room 4 -> room 2 -> outdoor\n",
    "G[ventilation] = 0, m_dot * c, m_dot * c\n",
    "\n",
    "θ = np.linalg.inv(A.T @ np.diag(G) @ A) @ (A.T @ np.diag(G) @ b + f)\n",
    "q = np.diag(G) @ (-A @ θ + b)\n",
    "print(\"4. 2 & 4 free-run, ventilation out -> 4 -> 2 -> out\")\n",
    "print(\"θ:\", θ[indoor_air], \"°C\")\n",
    "print(\"q:\", q[controller], \"W\")"
   ]
  },
  {
   "cell_type": "markdown",
   "id": "44c13f99-57c1-4782-bf94-68dd559e0d43",
   "metadata": {},
   "source": [
    "# Influence of physical parameters\n",
    "## Influence of materials \n",
    "\n",
    "The materials used to constitute the walls is a first important parameter to ensure the thermal comfort of the users in a building, and to reduce the energy to use to control the temperature of the rooms. The main characteristic of a material that can influence the thermal behavior of a building is its conductivity: this can vary greatly from one material to another. Concrete, for example, has a conductivity of about 1.7 W/(mK), while wood is almost 10 times less conductive on average, with conductivities ranging from 0.1 W/(mK) to 0.2 W/(mK). [ref : http://www.ganeeva.fr/]\n",
    "\n",
    "However, conductivity alone is not sufficient to compare two materials: it is the resistance, defined by equation [eq], and which therefore also depends on the wall thickness, that is of physical importance. Since wall thickness is largely determined by mechanical strength constraints, two materials cannot be properly compared using the same wall thickness value. \n",
    "\n",
    "In this part, we will compare 4 solutions using different materials: concrete walls, steel clad walls, wood clad walls and raw earth walls. These solutions will be compared in two different contexts : in winter and summer, by using the values associated with it in the introduction of the report.  Wall thicknesses typical of their practical use will be used. In the particular case of raw earth, the thickness used for the calculations corresponds to the required wall thickness to obtain the same mechanical resistance as a 15cm-wide regular concrete wall.  In this modelisation, all the rooms are controlled in temperature, according to the default parameters defined earlier. It should be noted that this simulation is only a model to compare approximately different types of facade materials. In practice, the walls are also insulated, which is why the values obtained are relatively high.\n",
    "[ref conductivity concrete, wood and steel : https://fr.wikipedia.org/wiki/Liste_de_conductivit%C3%A9s_thermiques]\n",
    "\n",
    "[ref conductivity raw earth : https://www.construction21.org]\n",
    "\n",
    "The results are listed in the following tables : \n",
    "\n",
    "Winter : E = 200 W/m², T0 = 0°C : <br>\n",
    "<img src=\"./figures/Materials_winter.png\" alt=\"isolated\" width=\"700\"/>\n",
    "\n",
    "Summer : E = 400 W/m², T0 = 30°C : <br>\n",
    "<img src=\"./figures/Materials_summer.png\" alt=\"isolated\" width=\"700\"/>\n",
    "\n",
    "\n",
    "\n",
    "It can be seen in this table that the material of the walls is a determining factor in the energy to be used to maintain the building at temperature. Between the two extreme solutions: raw earth and steel, we observe a ratio of thermal flows higher than 7 in summer and winter. Overall, conventional materials such as steel and concrete have a rather poor thermal behavior, while wood and raw earth have good thermal properties. Even with a very small wall thickness, wood, for example, performs better than conventional materials. In practice, the worse the thermal material performance, the greater will be the thickness of the insulation.\n",
    "\n"
   ]
  },
  {
   "cell_type": "markdown",
   "id": "0eb0526a-a014-4140-ba98-d76ef28c743c",
   "metadata": {
    "tags": []
   },
   "source": [
    "## Influence of ventilation\n",
    "The ventilation of a building is essential to ensure the comfort of its users, by controlling the air quality and humidity of the building. This phenomenon also has a significant influence on the thermal performance of the building and must therefore be taken into account in the calculations.\n",
    "\n",
    "To study the influence of ventilation on the thermal management of the building, we will proceed by carrying out two types of modeling: the calculation of the thermal flows necessary to control the temperature of the building as a function of the ventilation rate, and the calculation of the interior temperatures (uncontrolled) in the presence of ventilation. \n",
    "\n",
    "- Influence of the ventilation rate on the thermal flows\n",
    "\n",
    "For this calculation, we will take the default parameters defined in the introduction, in winter and in summer. We will calculate the control heat flows in each room, for ventilation rate values of 0.5 vol/h, 1 vol/h and 2 vol/h. In this modelisation, air is entering in the building from room 2 and going out outside in room 4. The results are presented in the following tables: \n",
    "\n",
    "Winter : E = 200 W/m², T0 = 0°C : <br>\n",
    "<img src=\"./figures/Ventilation_winter.png\" alt=\"isolated\" width=\"700\"/>\n",
    "\n",
    "Summer : E = 400 W/m², T0 = 30°C : <br>\n",
    "<img src=\"./figures/Ventilation_summer.png\" alt=\"isolated\" width=\"700\"/>\n",
    "\n",
    "We can therefore see that, in summer as in winter, the phenomenon of natural ventilation globally increases the energy to be used to maintain the temperature of the rooms, with heating in winter and with air conditioning in summer. Indeed, the outside temperature being colder than the control temperature in winter, and warmer in summer, the contribution of a mass of air inside the building leads to an additional heat flow by convection which is the opposite of that produced by the regulators. From a purely energy point of view, the ventilation of outside air represents an additional cost. Natural ventilation can therefore be interesting provided that the air used does not have a temperature difference that is too great in relation to the control temperatures of the rooms, which can be achieved using technologies such as the Canadian well."
   ]
  },
  {
   "cell_type": "markdown",
   "id": "852f7a4f-45e6-4b02-a5bf-bc23019e18ca",
   "metadata": {},
   "source": [
    "- Influence of the ventilation rate on room temperatures without thermal control\n",
    "\n",
    "Another way to study the influence of ventilation on building management is to calculate the equilibrium temperature of some rooms, not temperature controlled, for different values of ventilation rate. In the following, the calculations will be made in summer and winter, for ventilation rates of 0.5 vol/h, 1vol/h and 2vol/h.\n",
    "\n",
    "If the ventilation rate is increased when the outdoor temperature is lower than the indoor temperature of the controlled rooms, then the temperature of the uncontrolled rooms decreases. This is logical because more fresh air is drawn into the uncontrolled rooms. If the ventilation rate is reduced, the opposite phenomenon occurs.\n"
   ]
  },
  {
   "cell_type": "markdown",
   "id": "6a4da057-ea01-4499-ace6-fcf044ab9429",
   "metadata": {},
   "source": [
    "> Table 2 - Example : Room 2 in ventilated with an air-flow rate of 𝐴𝐶𝐻. The outdoor air enters in room 2, then it moves to room 4 and, from here, it gets outdoors. Find the temperature of the indoor air of **room 2**.\n",
    "\n",
    "| Ventilation rate, ACH [h⁻ⁱ]         | Temperature [°C] |\n",
    "| ------------------------------------| ---------------------- |\n",
    "|0                                    | 13.1|\n",
    "| 0.5                                 | 12.3 |\n",
    "| 1                                   | 7.2 |\n",
    "| 25                                  | 5.1 |\n",
    "\n"
   ]
  },
  {
   "cell_type": "markdown",
   "id": "09677077-b490-4163-93e0-f38878d8e93e",
   "metadata": {},
   "source": [
    "- Influence of the radiative forcing\n",
    "\n",
    ">Table 3 : Winter conditions, $T_{ext}$=0°C. Temperature of the indoor air of **room 2**, as a function of the short-wave solar radiation absorbed E.\n",
    "\n",
    "| E   [W/m²]     | Temperature [°C] |\n",
    "| ------------------------------------| ---------------------- |\n",
    "|0                                    | 8.2|\n",
    "| 200                               | 13.1 |\n",
    "| 400                               | 18|\n",
    "\n",
    "\n"
   ]
  },
  {
   "cell_type": "markdown",
   "id": "c408f15d-46c3-48d2-b74c-7a56c35177dc",
   "metadata": {},
   "source": [
    ">Table 4 : Summer conditions, $T_{ext}$=30°C. Temperature of the indoor air of **room 2**, as a function of the short-wave solar radiation absorbed E.\n",
    "\n",
    "| E   [W/m²]     | Temperature [°C] |\n",
    "| ------------------------------------| ---------------------- |\n",
    "|0                                    | 26.5|\n",
    "| 200                               | 31.4 |\n",
    "| 400                               | 36.2|\n"
   ]
  },
  {
   "cell_type": "markdown",
   "id": "1cdcdc4e-8620-4c6b-8bbd-ae392b51fd3b",
   "metadata": {},
   "source": [
    "## Influence of the adding of a solar protection\n",
    "\n",
    "For better comfort in summer, it can be interesting to add a solar protection such as a cap which reduces the surface receiving solar radiation. This horizontal protection prevents the sun's rays from hitting all the building's facades in summer because the sun is high in the sky. This reduces the temperature inside unregulated rooms or reduces the energy input to regulate the rooms. In winter the sun's rays are not blocked because the sun is lower (see diagram below). This does not reduce the indoor temperature in winter.\n",
    "\n",
    "<img src=\"./figures/Solar_cap.png\" alt=\"isolated\" width=\"700\"/>\n"
   ]
  },
  {
   "cell_type": "markdown",
   "id": "230e2a5b-78b2-4431-bb36-73c8b19a5af9",
   "metadata": {},
   "source": [
    ">Table 5 : Summer conditions, $T_{ext}=30°C$ and $E=400W/m²$ - Rooms 1 and 3 are controlled by HVAC, Room 2 and 4 are free-running.\n",
    "Temperature of the indoor air of **room 2**.\n",
    "\n",
    "| Percentage of S0  [%]   | Indoor temperature [°C] |\n",
    "| ------------------------------------| ---------------------- |\n",
    "|100                                   | 36.2|\n",
    "|75                            | 34.6 |\n",
    "|50                              | 32.3|\n",
    "|25                             | 28.5|"
   ]
  },
  {
   "cell_type": "markdown",
   "id": "011ed546-def5-442a-bd0d-f56c80e912f0",
   "metadata": {},
   "source": [
    ">Table 6 : Summer conditions, $T_{ext}=30°C$ and $E=400W/m^2$ - All rooms are controlled by a HVAC system at the setpoint :\n",
    "$T_1=20°C$, $T_2=20°C$, $T_3=22°C$, $T_4=18°C$.\n",
    "Thermal load of **room 1** :\n",
    "\n",
    "| Percentage of S0  [%]   | q [W] |\n",
    "| ------------------------------------| ---------------------- |\n",
    "|100                                   | 857|\n",
    "|75                            | 618|\n",
    "|50                              | 380|\n",
    "|25                             | 141|"
   ]
  },
  {
   "cell_type": "markdown",
   "id": "2094c57d-ed50-496f-a8f6-f7144fdffbe0",
   "metadata": {
    "tags": []
   },
   "source": [
    "# Statical model for a complex architecture\n",
    "\n",
    "In this part, we focus on the modeling of a more complex architecture, resulting from the TET option project \"Ferme du Milieu à Lhuis\". This project aims to analyse the renovation of a farm in the department of the Ain with the aim of transforming it into an associative and get-together place. \n",
    "\n",
    "The main objective of this part is to set up a statical thermal model, with Python, of the ground floor of the farm once renovated. The work is based on Christian Ghiaus' course which models a 5-room building.\n",
    "\n",
    "## Problem\n",
    "### Data\n",
    "\n",
    "The future geometries of the ground floor of the farm are described in a plan provided by the ENSAL students (architecture school) with whom we work in collaboration.\n",
    "\n",
    "<img src=\"./figures/bldg_plan.png\" alt=\"isolated\" width=\"650\"/>\n",
    "\n",
    "> Figure 1. Ground floor plan\n",
    "\n",
    "\n",
    "The thermal conductivities of the walls are: \n",
    "- $\\lambda_1 = 0.052 \\, \\mathrm{W/(m \\, K)}$ for the compressed straw.\n",
    "- $\\lambda_2 = 0.03 \\, \\mathrm{W/(m \\, K)}$ for internal walls.\n",
    "- $\\lambda_3 = 0.87 \\, \\mathrm{W/(m \\, K)}$ for cinder blocks.\n",
    "\n",
    "The convective heat coefficients between the walls and the indoor and outdoor air are $h_i = 8 \\, \\mathrm{W/(m^2 \\, K)}$ and $h_o = 25 \\, \\mathrm{W/(m^2 \\, K)}$ respectively.\n",
    "\n",
    "The annual mean short-wave solar radiation absorbed by each wall is $E = 165.33 \\, \\mathrm{W/m^2}$.\n",
    "\n",
    "The annual mean outdoor temperature is $T_o = 12,3 \\, \\mathrm{°C}$.\n"
   ]
  },
  {
   "cell_type": "code",
   "execution_count": 22,
   "id": "8d83c1af-435b-402f-b83d-1d5e62241ff3",
   "metadata": {},
   "outputs": [],
   "source": [
    "import numpy as np\n",
    "\n",
    "np.set_printoptions(precision=1)\n",
    "\n",
    "#%% Data\n",
    "\n",
    "#set temperatures (°C)\n",
    "\n",
    "T1=20\n",
    "T2=20\n",
    "T3=20\n",
    "T4=20\n",
    "T5=20\n",
    "T6=20\n",
    "\n",
    "# outdoor temperature\n",
    "T0 = 12.3           # °C\n",
    "\n",
    "# short-wave solar radiation absorbed by each wall\n",
    "E = 165.33          # W/m2\n",
    "\n",
    "# thermo-physical propertites\n",
    "λ1 = 0.052           # W/(m K) wall thermal conductivity\n",
    "λ2 = 0.03 \n",
    "λ3 = 0.87 \n",
    "hi, ho = 8, 25      # W/(m2 K) convection coefficients in, out"
   ]
  },
  {
   "cell_type": "markdown",
   "id": "ac3b4044-0d6e-442c-90c6-640f7685895e",
   "metadata": {
    "tags": []
   },
   "source": [
    "## Thermal model\n",
    "\n",
    "### Thermal conductances\n",
    "\n",
    "In the model, we will consider the conductances:\n",
    "- $h \\, S$ - convection, W/K;\n",
    "- $\\lambda / w \\, S$ - conduction, W/K;\n",
    "- $K_p$ - gain of the proportional controller, W/K.\n",
    "\n",
    "**Note:** in determening the surfce area of the walls, the lengths of the walls are the indoor values.\n",
    "\n",
    "We will consider the conductances of exterior and the interior walls (Figure 2). The exterior walls are modelled with a conductance for outdoor convection and an equivalent conductance for conduction in the wall and indoor convection. Blue walls are composed of two layers of cinder blocks and compressed straw, green walls are only made out of cinder blocks.\n",
    "The indoor walls are modelled by an equivalent conductance for indoor convection, conduction, and indoor convection on the other side.\n",
    "\n",
    "<img src=\"./figures/bldg_plan2.png\" alt=\"isolated\" width=\"650\"/>\n",
    "> Figure 2. Walls forming thermal coductances in the model."
   ]
  },
  {
   "cell_type": "code",
   "execution_count": 23,
   "id": "05ebf791-8f33-41a6-bf60-c8947f3b3c09",
   "metadata": {},
   "outputs": [],
   "source": [
    "# dimensions (m)\n",
    "H=3\n",
    "\n",
    "L1=9.45 \n",
    "L2=4.9\n",
    "L3=L2\n",
    "L4=6.79\n",
    "L5=1.55\n",
    "L6=16.19\n",
    "L7=7.71 \n",
    "L8=4.07\n",
    "L9=4.27\n",
    "L10=24.6\n",
    "L11=12.52\n",
    "L12=3.01\n",
    "\n",
    "w1=0.3\n",
    "w2=0.1\n",
    "w3=0.2"
   ]
  },
  {
   "cell_type": "markdown",
   "id": "af8168c5-f842-4a2e-b9fd-fabaad20df0b",
   "metadata": {
    "tags": []
   },
   "source": [
    "### Thermal network\n",
    "\n",
    "The thermal network modeling the building is a [weighted directed graph](https://en.m.wikipedia.org/wiki/Directed_graph) (Figure 3). It is composed of edges (or branches) and vertexes (or nodes).\n",
    "\n",
    "The temperature nodes model a volume, a surface, a line or a point in space for which the temperature is considered homogenous. The nodes are dependent temperatures (outputs of the physical system). The reference temperature is considered zero Celsius; it has a known value and is represented by a bar (Figure 3).\n",
    "\n",
    "To a temperature node $\\theta_j$, there are connected [heat flow rate](https://en.m.wikipedia.org/wiki/Rate_of_heat_flow) branches $q_k, k = 0 ... n$ and [heat flow rate sources](https://en.m.wikipedia.org/wiki/Current_source), $f_j$ (Figure 3a). A heat rate source delivers a heat flow rate whatever is the temperature difference. In buildings, typical heat flow rate sources are [solar irradiance](https://en.m.wikipedia.org/wiki/Solar_irradiance), [electrical appliances](https://en.wikipedia.org/wiki/Joule_heating) and [occupants](https://en.wikipedia.org/wiki/Thermal_comfort#Metabolic_rate). If a heat flow rate source is [identically zero](https://en.wiktionary.org/wiki/identically_zero), then it is not figured on the graph.\n",
    "\n",
    "In steady-state, the [algebraic sum of the heat flow rates](https://en.wikipedia.org/wiki/Kirchhoff%27s_circuit_laws#Kirchhoff's_current_law) entering the temperature node $\\theta_j$ is zero:\n",
    "$$\\sum_{k} q_k + f_j= 0$$\n",
    "\n",
    "Two temperature nodes $\\theta_i$ and $\\theta_j$ are connected by directed edges of heat flow rates $q_k$ (Figure 3a). On each edge, there is a conductance $G_k$ and a temperature source $b_k$. A [temperature source](https://en.m.wikipedia.org/wiki/Voltage_source) maintains a temperature value whatever is the heat flow rate. In building, outdoor air, ground, and setpoint temperatures are typical examples of temperature sources. If a temperature source is [identically zero](https://en.wiktionary.org/wiki/identically_zero), then it is not figured on the graph.\n",
    "\n",
    "From the [directed sum of temperature differences over a branch](https://en.m.wikipedia.org/wiki/Kirchhoff%27s_circuit_laws#Kirchhoff's_voltage_law), it results that the [temperature drop](https://en.wikipedia.org/wiki/Voltage_drop) over a conductance is (Figure 3a):\n",
    "$$e_k = \\theta_i - \\theta_j + b_k$$\n",
    "\n",
    "The relation between the temperature drop, $e_k$, over a conductance, $G_k$, and the heat flow rate, $q_k$, thrrough the conductance $G_k$ is:\n",
    "$$q_k = G_k \\, e_k$$\n",
    "\n",
    "In figure 3b, the heat flow rate branches $q_k$ are not represented. They are in fact going through each corresponding $G_k$ looking from left to right or downward.\n",
    "\n",
    "This [weighted directed graph](https://en.m.wikipedia.org/wiki/Directed_graph) is characterized by:\n",
    "- $A$ - [incidence matrix](https://en.m.wikipedia.org/wiki/Incidence_matrix);\n",
    "- $G$ - [conductance](https://en.m.wikipedia.org/wiki/Electrical_resistance_and_conductance)  diagonal matrix;\n",
    "- $b$ - vector of [temperature sources](https://en.m.wikipedia.org/wiki/Voltage_source);\n",
    "- $f$ - vector of [flow-rate sources](https://en.m.wikipedia.org/wiki/Current_source).\n",
    "\n",
    "\n",
    "The solution of the problem is ([Ghiaus (2013)](https://hal.archives-ouvertes.fr/hal-03605823/document)):\n",
    "\n",
    "$$ \\theta = (A^TGA)^{-1}(A^TGb + f)$$\n",
    "and\n",
    "$$ q = G(-A\\theta + b)$$\n",
    "\n",
    "<img src=\"./figures/thermalmodelexample.png\" alt=\"isolated\" width=\"200\"/>\n",
    "\n",
    "> Figure 3a. Thermal network: thermal network model for the buiding shown in Figures 1 and 2.\n",
    "\n",
    "<img src=\"./figures/RCmodel.svg\" alt=\"isolated\" width=\"650\"/>\n",
    "\n",
    "> Figure 3b. Thermal network: thermal network model for the buiding shown in Figures 1 and 2.\n",
    "\n",
    "For our model, the graph has 27 braches and 12 nodes (Figure 3b)."
   ]
  },
  {
   "cell_type": "code",
   "execution_count": 24,
   "id": "bd4d205c-1493-4fe8-8615-2486160a9d20",
   "metadata": {},
   "outputs": [],
   "source": [
    "nq, nθ = 27, 12  # number of flow-rates branches and of temperaure nodes"
   ]
  },
  {
   "cell_type": "markdown",
   "id": "3bc4aaba-3f3a-4d8e-a958-b9ff594d7b55",
   "metadata": {},
   "source": [
    "### Incidence matrix\n",
    "The [incidence matrix of a directed graph](https://en.m.wikipedia.org/wiki/Incidence_matrix) shows the relationship between the edges (or branches) $k$ and the vertexes (or nodes) $j$ of the graph (Figure 3a):\n",
    "\n",
    "$$A_{k,j} = \\begin{cases}\\phantom{-}\n",
    "0 & \\text{if heat flow rate } q_k \\text{ is not connected to node }  \\theta_j \\\\ \n",
    "+1 & \\text{if heat flow rate } q_k \\text{ enters into node }  \\theta_j\\\\ \n",
    "-1 & \\text{if heat flow rate } q_k \\text{ gets out of node }  \\theta_l \n",
    "\\end{cases}$$\n",
    "\n",
    "The incidence matrix is a [sparce matrix](https://en.m.wikipedia.org/wiki/Sparse_matrix) which has:\n",
    "- the number of rows equal to $n_q$, the number of flow rates $q_k$;\n",
    "- the number of columns equal to $n_{\\theta}$, the number of temperature nodes $\\theta_j$."
   ]
  },
  {
   "cell_type": "code",
   "execution_count": 25,
   "id": "e3326991-225a-4cda-a7df-d80860e241a0",
   "metadata": {},
   "outputs": [],
   "source": [
    "#%% Incidence matrix\n",
    "\n",
    "A = np.zeros([nq, nθ])\n",
    "\n",
    "# q0 ... q5 (blue branches)\n",
    "A[0, 0] = 1\n",
    "A[1, 1] = -1\n",
    "A[2, 2] = 1\n",
    "A[3, 3] = 1\n",
    "A[4, 4] = -1\n",
    "A[5, 5] = -1\n",
    "\n",
    "\n",
    "# q6 ... q11 (violet branches)\n",
    "\n",
    "A[6, 0], A[6, 7] = -1, 1\n",
    "A[7, 1], A[7, 8] = -1, 1\n",
    "A[8, 2], A[8, 6] = -1, 1\n",
    "A[9, 3], A[9, 9] = -1, 1\n",
    "A[10, 10], A[10, 4] = -1, 1\n",
    "A[11, 11], A[11, 5] = -1, 1\n",
    "\n",
    "\n",
    "# q12 ... q20 (orange branches)\n",
    "\n",
    "A[12, 6], A[12, 7] = -1, 1\n",
    "A[13, 7], A[13, 8] = -1, 1\n",
    "A[14, 6], A[14, 9] = -1, 1\n",
    "A[15, 6], A[15, 10] = -1, 1\n",
    "A[16, 7], A[16, 10] = -1, 1\n",
    "A[17, 8], A[17, 10] = -1, 1\n",
    "A[18, 9], A[18, 10] = -1, 1\n",
    "A[19, 8], A[19, 11] = -1, 1\n",
    "A[20, 10], A[20, 11] = -1, 1\n",
    "\n",
    "\n",
    "\n",
    "# q21 ... q26 (red branches)\n",
    "\n",
    "A[21, 7] = 1\n",
    "A[22, 6] = 1\n",
    "A[23, 8] = -1\n",
    "A[24, 9] = 1\n",
    "A[25, 10] = -1\n",
    "A[26, 11] = -1"
   ]
  },
  {
   "cell_type": "markdown",
   "id": "05707cb2-211a-4f09-af3c-eb515cfdf048",
   "metadata": {
    "tags": []
   },
   "source": [
    "### Conductances\n",
    "The number of conductances corresponds to the number of flows which is the number of rows of incidence matrix $A$"
   ]
  },
  {
   "cell_type": "code",
   "execution_count": 26,
   "id": "5621f73f-b423-4b17-a23d-380953649622",
   "metadata": {},
   "outputs": [],
   "source": [
    "# Conductance matrix\n",
    "# ==================\n",
    "G = np.zeros(A.shape[0])"
   ]
  },
  {
   "cell_type": "markdown",
   "id": "345b11dc-a781-4649-97d2-83f3bfca645a",
   "metadata": {},
   "source": [
    "#### Exterior walls: outdoor convection\n",
    "The conductances of [convection](https://en.m.wikipedia.org/wiki/Newton%27s_law_of_cooling) between the walls and the outdoor air are of the form\n",
    "$$G_i = h_o \\, S$$\n",
    "where $S$ is the surface area of the wall in contact with the outdoor air: for example $S= L_2 \\, H$ for the room 2 in Figure 2\n"
   ]
  },
  {
   "cell_type": "code",
   "execution_count": 27,
   "id": "550c0d50-467a-49c7-8b37-c1bf95712a8d",
   "metadata": {},
   "outputs": [],
   "source": [
    "# G0 ... G5 : outdoor convection (blue)\n",
    "\n",
    "S0=L2*H\n",
    "G[0]= ho*S0\n",
    "\n",
    "S1=(L3+L4)*H\n",
    "G[1]= ho*S1\n",
    "\n",
    "S2=(L1+L9)*H\n",
    "G[2]= ho*S2\n",
    "\n",
    "S3=(L8+L7-L12-w3)*H\n",
    "G[3]= ho*S3\n",
    "\n",
    "S4=L5*H\n",
    "G[4]= ho*S4\n",
    "\n",
    "S5=(2*L11+L10+L10-L12-w2-L6-w1-w3)*H\n",
    "G[5]= ho*S5"
   ]
  },
  {
   "cell_type": "markdown",
   "id": "0c2fd72b-01db-40ec-81d8-c39920a3569a",
   "metadata": {},
   "source": [
    "#### Exterior walls: conduction and indoor convection\n",
    "The [equivalent conductance](https://en.m.wikipedia.org/wiki/Series_and_parallel_circuits#Combining_conductances) for [conduction](https://en.m.wikipedia.org/wiki/Thermal_conduction) in the wall and [convection](https://en.m.wikipedia.org/wiki/Newton%27s_law_of_cooling) between the wall and the indoor air (example for the blue walls in Figure 2 which are made of cinder bkocks and compressed straw) is:\n",
    "$$G_k = \\frac{1}{\\frac{w_2}{\\lambda_2} + \\frac{w_3}{\\lambda_3} + \\frac{1}{h_i}}S$$ "
   ]
  },
  {
   "cell_type": "code",
   "execution_count": 28,
   "id": "8b9325bd-fd39-4039-b900-eccffe0a68d1",
   "metadata": {},
   "outputs": [],
   "source": [
    "# G6 ... G11 conduction + indoor convection (violet)\n",
    "\n",
    "hbleu=1/(1/hi+w2/λ2+w3/λ3)\n",
    "\n",
    "hvert=1/(1/hi+w3/λ3)\n",
    "\n",
    "G[6]= hbleu*S0\n",
    "\n",
    "G[7]= hbleu*S1\n",
    "\n",
    "G[8]= hbleu*S2\n",
    "\n",
    "G[9]= hbleu*S3\n",
    "\n",
    "G[10]= hbleu*S4\n",
    "\n",
    "G[11]= hvert*S5"
   ]
  },
  {
   "cell_type": "markdown",
   "id": "4073364a-e8e7-4986-a441-1c5a581642a5",
   "metadata": {},
   "source": [
    "#### Interior walls: indoor convection, conduction indoor convection\n",
    "The [equivalent conductance](https://en.m.wikipedia.org/wiki/Series_and_parallel_circuits#Combining_conductances) for the indoor walls is formed by the (yellow in Figures 2 and 3):\n",
    "- convetion between wall and indoor air;\n",
    "- conduction into the wall;\n",
    "- convetion between wall and indoor air.\n",
    "\n",
    "It is of the form:\n",
    "$$G_k = \\frac{1}{\\frac{1}{h_i} + \\frac{w}{\\lambda} + \\frac{1}{h_i}}S$$\n",
    "\n",
    "where $S$ is the surface area of the wall in contact with the indoor air."
   ]
  },
  {
   "cell_type": "code",
   "execution_count": 29,
   "id": "cef2e9bd-364b-4c7a-978f-d4a3069b4320",
   "metadata": {},
   "outputs": [],
   "source": [
    "\n",
    "# G12 ... G20 indoor walls (orange)\n",
    "# indoor convection + conduction + indoor convection \n",
    "\n",
    "hjaune=1/(2/hi+w2/λ2)\n",
    "\n",
    "hbleuvert=1/(2/hi+w1/λ1+w3/λ3)\n",
    "\n",
    "S12=L9*H\n",
    "G[12]=hjaune*S12\n",
    "\n",
    "G[13]=hjaune*S12\n",
    "\n",
    "S14=L7*H\n",
    "G[14]=hjaune*S14\n",
    "\n",
    "S15=(L1-L7-w2)*H\n",
    "G[15]=hjaune*S15\n",
    "\n",
    "G[16]=hjaune*S0\n",
    "\n",
    "S17=((L8-L5-w2)+L3)*H\n",
    "G[17]=hjaune*S17\n",
    "\n",
    "S18=L8*H\n",
    "G[18]=hjaune*S18\n",
    "\n",
    "S19=L12*H\n",
    "G[19]=hbleuvert*S19\n",
    "\n",
    "S20=L6*H\n",
    "G[20]=hbleuvert*S20"
   ]
  },
  {
   "cell_type": "markdown",
   "id": "9b82b88d-d851-4a9f-99ac-f8b07fad369e",
   "metadata": {},
   "source": [
    "#### Proportional controller\n",
    "\n",
    "The heating and air conditioning ([HVAC](https://en.wikipedia.org/wiki/Heating,_ventilation,_and_air_conditioning)) system maintains the indoor air temperature at [setpoint](https://en.wikipedia.org/wiki/Setpoint_(control_system)) value. Therefore, the HVAC system may be modelled as a [proportional controller](https://en.m.wikipedia.org/wiki/Proportional_control) (Figure 5a) for wich the heat flow rate of the HVAC system is:\n",
    "\n",
    "$$q = K_P (T_{sp} - \\theta)$$\n",
    "\n",
    "where:\n",
    "- $K_P$ is the [proportional gain;](https://en.wikipedia.org/wiki/Proportional_control#Theory)\n",
    "- $T_{sp}$ - setpoint temperature, °C;\n",
    "- $\\theta$ - measured temperature of the indoor air, °C.\n",
    "\n",
    "The heat flow rate can be then expressed as (Figure 5b):\n",
    "$$q = G (T_{sp} - \\theta)$$\n",
    "where $G \\equiv K_p$.\n",
    "\n",
    "The indoor air temperature control by the HVAC system (Figure 5a) may be modelled by a source of temperature, $T_{sp}$, and a conductance, $G$ (Figure 5b).\n",
    "\n",
    "![fig](./figures/08_P-controller.svg)\n",
    "> Figure 5. Model of a proportional controller in a thermal network (example for room 1). a) Principle of a temperature control system using a P-controller. b) Model of temperature control system in a thermal network.\n",
    "\n",
    "If the rooms are in \"free-runnning\" (i.e., the controllers are not active), the proportional gains of the controllers are zero. Here, all the rooms are controlled except the 6th."
   ]
  },
  {
   "cell_type": "code",
   "execution_count": 30,
   "id": "a3bf6fbf-5e4f-45cd-9f65-84554e5f9886",
   "metadata": {},
   "outputs": [],
   "source": [
    "# G21 ... G26 gains of proportional controllers (red)\n",
    "\n",
    "K0=0\n",
    "Kinf=1e9\n",
    "\n",
    "#Room 1\n",
    "\n",
    "G[22]=Kinf\n",
    "\n",
    "#Room 2\n",
    "\n",
    "G[21]=Kinf\n",
    "\n",
    "#Room 3\n",
    "\n",
    "G[23]=Kinf\n",
    "\n",
    "#Room 4\n",
    "\n",
    "G[24]=Kinf\n",
    "\n",
    "#Room 5\n",
    "\n",
    "G[25]=Kinf\n",
    "\n",
    "#Room 6\n",
    "\n",
    "G[26]=K0"
   ]
  },
  {
   "cell_type": "markdown",
   "id": "5677d98f-6145-4d3d-bcce-7439c05bde86",
   "metadata": {},
   "source": [
    "### Vector of temperature sources\n",
    "\n",
    "Every edge (or branch) of the graph has a [temperature source](https://en.m.wikipedia.org/wiki/Voltage_source) which is not figured if it is [identically zero](https://en.wiktionary.org/wiki/identically_zero) (Figure 3a). The number of temperature sources is equal to the number of heat flow rates, i.e., the number of rows of the incidence matrix $A$."
   ]
  },
  {
   "cell_type": "code",
   "execution_count": 31,
   "id": "ab3ca557-5dd5-475a-9e7a-a6fd25be1451",
   "metadata": {},
   "outputs": [],
   "source": [
    "# Vector of temperature sources\n",
    "# =============================\n",
    "b = np.zeros(A.shape[0])"
   ]
  },
  {
   "cell_type": "markdown",
   "id": "6d64d1af-3fc7-4be4-926a-490908c7a7ed",
   "metadata": {},
   "source": [
    "The temperature sources modelling the outdoor temperature of the walls are on branches 0, ... 5."
   ]
  },
  {
   "cell_type": "code",
   "execution_count": 32,
   "id": "d42800dc-3f35-4a75-8c71-75b10de47d89",
   "metadata": {},
   "outputs": [],
   "source": [
    "#blue branches : outdoor temperature for walls\n",
    "b[0:6]=T0,-T0,T0,T0,-T0,-T0"
   ]
  },
  {
   "cell_type": "markdown",
   "id": "c501d127-eeb8-463a-9461-1cb405852f17",
   "metadata": {},
   "source": [
    "The temperature sources modelling the [setpoint](https://en.m.wikipedia.org/wiki/Setpoint_(control_system)) temperatures are on the branches 21, ... 26. The setpoints for all rooms is 20 °C.  "
   ]
  },
  {
   "cell_type": "code",
   "execution_count": 33,
   "id": "a61c31d6-6f05-47e5-8ad0-3c120d7e56a0",
   "metadata": {},
   "outputs": [],
   "source": [
    "#red branches : setpoints rooms \n",
    "b[21:27]=T2,T1,-T3,T4,-T5,-T6"
   ]
  },
  {
   "cell_type": "markdown",
   "id": "5645da95-9433-4f2e-a348-62e45e9dc066",
   "metadata": {},
   "source": [
    "### Vector of heat flow rate sources\n",
    "\n",
    "In our model, the heat flow rate sources are the solar radiation absorbed by the exterior walls. First, we will consider that the solar radiation is zero.\n",
    "\n",
    "The number of heat flow rate sources is equal to the number of temperature nodes, i.e., the number of columns of the incidence matrix $A$."
   ]
  },
  {
   "cell_type": "code",
   "execution_count": 34,
   "id": "bafab646-f54f-4a48-ba6b-b4d8e0c36ce9",
   "metadata": {},
   "outputs": [],
   "source": [
    "# Vector of flow-rate sources\n",
    "# =============================\n",
    "f = np.zeros(A.shape[1])"
   ]
  },
  {
   "cell_type": "markdown",
   "id": "e3e8a002-9610-4e1d-bedc-8036df8d4308",
   "metadata": {
    "jp-MarkdownHeadingCollapsed": true,
    "tags": []
   },
   "source": [
    "The solar radiation $E$ is represented Figure 3b by $Q_{1...6}$. The solar radiation absorbed by the exterior walls is \n",
    "\n",
    "$Q=E*S$."
   ]
  },
  {
   "cell_type": "code",
   "execution_count": 35,
   "id": "476215b7-3743-45f0-9d9e-2860fe847625",
   "metadata": {},
   "outputs": [],
   "source": [
    "#Solar radiation\n",
    "\n",
    "f[0]=E*S0\n",
    "\n",
    "f[1]=E*S1\n",
    "\n",
    "f[2]=E*S2\n",
    "\n",
    "f[3]=E*S3\n",
    "\n",
    "f[4]=E*S4\n",
    "\n",
    "f[5]=E*S5"
   ]
  },
  {
   "cell_type": "markdown",
   "id": "312f8792-1141-4364-bd29-00622b8fbcb6",
   "metadata": {},
   "source": [
    "## Results\n",
    "\n",
    "In this problem, we are looking for the indoor air temperatures of the rooms (1, 2, 3, and 4) and for the thermal loads of the rooms.\n",
    "\n",
    "The air temperatures of the rooms are nods 6\n",
    "...11.\n",
    "\n",
    "The [thermal load](https://en.m.wikipedia.org/wiki/Cooling_load) is the heat flow rate needed to compensate all the other heat flow rates in order to maintain the air temperature at its setpoint. Therefore, the thermal loads are the heat flow rates of the controllers, i.e. $q_{21 ... 26}$."
   ]
  },
  {
   "cell_type": "code",
   "execution_count": 36,
   "id": "85e1846f-0541-4328-b225-2e7f5c7d34b3",
   "metadata": {},
   "outputs": [
    {
     "name": "stdout",
     "output_type": "stream",
     "text": [
      "Room temperatures [20.  20.  20.  20.  20.  18.9] °C\n",
      "Thermal loads [12.   4.3 11.8  7.5  9.6 -0. ] W\n",
      "Total consumption :  45.16 W\n"
     ]
    }
   ],
   "source": [
    "#%%Solving\n",
    "\n",
    "θ = np.linalg.inv(A.T @ np.diag(G) @ A) @ (A.T @ np.diag(G) @ b + f)\n",
    "q = np.diag(G) @ (-A @ θ + b)\n",
    "\n",
    "\n",
    "q_affich = np.zeros(6) #variable qui remet dans l'ordre les flux pour mieux afficher les données\n",
    "q_affich[0:7]=[q[22], q[21], -q[23], q[24], -q[25], -q[26]]\n",
    "\n",
    "print(\"Room temperatures\", θ[6:12], \"°C\")\n",
    "print(\"Thermal loads\", q_affich, \"W\")\n",
    "print(\"Total consumption : \", round(sum(q_affich),2) ,\"W\")"
   ]
  },
  {
   "cell_type": "markdown",
   "id": "6fec020f-01d2-4217-ba04-0d42841d574a",
   "metadata": {},
   "source": [
    "# Conclusion\n",
    "This work allowed us to understand the influence of different parameters in the behavior of a simple building. We also studied the modeling of a more complex architecture, resulting from the TET option project \"Ferme du Milieu à Lhuis\".\n"
   ]
  },
  {
   "cell_type": "markdown",
   "id": "2d142e5c-9667-4b33-8139-710f848a1981",
   "metadata": {},
   "source": [
    "## References\n",
    "\n",
    "1. C. Ghiaus (2013) Causality issue in the heat balance method for calculating the design heating and cooling loads, *Energy* 50: 292-301, https://doi.org/10.1016/j.energy.2012.10.024, open access preprint: [hal-03605823](https://hal.archives-ouvertes.fr/hal-03605823/document)\n",
    "\n",
    "2. H. Recknagel, E. Sprenger, E.-R. Schramek (2013) Génie climatique, 5e edition, Dunod, Paris. ISBN 978-2-10-070451-4\n",
    "\n",
    "3. http://www.ganeeva.fr\n",
    "\n",
    "4. Ross, M., Korany, Y. and Lohonyai, A. (2011) Application of Poly-Mor Foam as Insulation for Single Wythe Masonry Walls, Table 8 -Thermal Resistance of Various Insulating Materials. Available at: https://doi.org/10.7939/R3J67905P.\n",
    "\n",
    "5. JRC Photovoltaic Geographical Information System (PVGIS) - European Commission. Available at: https://re.jrc.ec.europa.eu/pvg_tools/fr/tools.html\n",
    "\n",
    "\n"
   ]
  }
 ],
 "metadata": {
  "kernelspec": {
   "display_name": "Python 3 (ipykernel)",
   "language": "python",
   "name": "python3"
  },
  "language_info": {
   "codemirror_mode": {
    "name": "ipython",
    "version": 3
   },
   "file_extension": ".py",
   "mimetype": "text/x-python",
   "name": "python",
   "nbconvert_exporter": "python",
   "pygments_lexer": "ipython3",
   "version": "3.9.15"
  },
  "toc-autonumbering": false,
  "toc-showtags": false
 },
 "nbformat": 4,
 "nbformat_minor": 5
}
